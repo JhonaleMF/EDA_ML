{
 "cells": [
  {
   "cell_type": "markdown",
   "metadata": {},
   "source": [
    "## Industria cinematográfica: Ingresos de taquilla de Películas entre 1970 - 2022 \n",
    "#### ML: Predicción Ingreso de taquilla"
   ]
  },
  {
   "cell_type": "markdown",
   "metadata": {},
   "source": [
    "¿A quién no le gusta ir al cine a disfrutar de una buena película con la familia o con amigos? Pero más allá de un método de entrenamiento, la industria cinematográfica ha venido recuperándose desde que hemos entrado, no hace mucho a la nueva normalidad desde que se inició la pandemia del covid-19 a finales del 2019.\n",
    "Soy un apasionado de las películas, me gustan varios géneros, pero aún no me atrae muchos las películas de terror.  \n",
    "\n",
    "Mis gustos van desde películas como “Taxi Driver” o “Sueño de Fuga”, interpretadas por Robert De Niro y Morgan Freeman, respectivamente; o ver aquellas películas, que al terminarlas de ver, no se entendió absolutamente nada, y toca verlas otra vez o ver el sinopsis en Google, como por ejemplo “Interestelar” u “Origen” interpretadas por Matthew McConaughey y Leonardo DiCaprio, como también ver todas las películas de Indiana Jones con el grandísimo Harrison Ford, hasta ver películas de animación como el rey León, y anime como “EL viaje de Chihiro”.\n",
    "Por ello, el motivo de escoger un tema relacionado con películas. A continuación, explicaré brevemente el paso a paso del Análisis Exploratorio de Datos de las películas estrenadas entre 1970 y 2022, y la elaboración de los modelos de Machine Learning para predecir los ingresos de taquilla de las películas.\n"
   ]
  },
  {
   "cell_type": "markdown",
   "metadata": {},
   "source": [
    "#### Obtención de Datos"
   ]
  },
  {
   "cell_type": "markdown",
   "metadata": {},
   "source": [
    "Tuve como punto de referencia la competencia de Kaggle “TMDB Box Office Prediction”, en el que se obtiene la información de las películas de la API de la página “themoviedb”. Obtuve toda la información desde cero, realizando el request de la API. Allí, obtuve información como: \n",
    "- Revenue (Ingresos) \n",
    "\n",
    "- Runtime (Duración película) \n",
    "\n",
    "- Budget (Presupuesto) \n",
    "\n",
    "- Cast (Reparto), Crew (Personal), Release_date (Fecha de lanzamiento), entre otros.\n",
    "\n",
    "Es importante mencionar que se tomo la información de las películas que se estrenaron entre 1970 y 2022, ya que según Euston 96, el cine de 1970 es el que existe en la actualidad.\n",
    "Como iba a tener información de películas que se lanzaron durante la pandemia, por lo tanto, agregue información sobre las nuevas muertes, infectados y vacunados por día. También, añadí un csv del PCI (Consumer Price Index) de Estados Unidos por año, esto con el fin de inflar los variables que estén relacionados con dinero, como por ejemplo el presupuesto y los ingresos, para realizar una comparación equivalente entre los diferentes años en estudio.\n"
   ]
  },
  {
   "cell_type": "markdown",
   "metadata": {},
   "source": [
    "#### Limpieza del dataset"
   ]
  },
  {
   "cell_type": "markdown",
   "metadata": {},
   "source": [
    "Por medio de bucles for y regex, obtuve información limpia como los nombres del reparto, países y compañías de producción, etc. Por otro lado, elimine los registros que tenían missing values o NaN y todos aquellos valores que no tenían sentido en el análisis, como:\n",
    "-\tPara el estudio tuve en cuenta las películas de tipo largometraje, que según blog, 20 minutos, se considera un película como largometraje aquella de tiene una duración mínima de 40 minutos, por lo tanto elimine registros con un tiempo de duración menor a 40.\n",
    "-\tTodas las películas con un presupuesto o tiempo de duración igual a cero.\n"
   ]
  },
  {
   "cell_type": "markdown",
   "metadata": {},
   "source": [
    "#### Transformación de información"
   ]
  },
  {
   "cell_type": "markdown",
   "metadata": {},
   "source": [
    "Luego de realizar la limpieza del dataset, y antes de construir los modelos supervisado de tipo Regression realice las siguientes transformaciones:\n",
    "-\tDe la columna reléase_date, fue posible obtener el año, mes y día por registro del dataset.\n",
    "-\tCon ayuda del método group by de pandas y las columnas revenue, month y year, obtuve una nueva columna ‘market_share_genre’.\n",
    "-\tApliqué la librería Label Encoder para las variables categóricas de genre, crew, cast, countries_productio, companies_production, entre otros.\n",
    "-\tAñadí las columnas cast, director, month y company revenue promedio, que básicamente es un group by, calculando la media de la columna revenue. Y este resultado los unia con el DataFrame principal, quedando como las columnas ingreso promedio por actos, directo, mes y compañía.\n"
   ]
  },
  {
   "cell_type": "markdown",
   "metadata": {},
   "source": [
    "#### Análisis de Datos"
   ]
  },
  {
   "cell_type": "markdown",
   "metadata": {},
   "source": [
    "Para el análisis se dieron uso de gráficos como:\n",
    "-\tScatterplot\n",
    "-\tBoxplot\n",
    "-\tLineplot\n",
    "-\tBurbleplot\n",
    "-\tHistogramas\n",
    "Para el análisis utilice métodos, funciones y librerías comunes como Numpy, Pandas, Seaborn y Matplolib. Además, se crearon nuevos Dataframes, y también use varios métodos group by, para realizar las diferentes visualizaciones. \n"
   ]
  },
  {
   "cell_type": "markdown",
   "metadata": {},
   "source": [
    "#### Modelos"
   ]
  },
  {
   "cell_type": "markdown",
   "metadata": {},
   "source": [
    "Después del análisis, observe que la variable tarjet, revenue o ingresos, no representa una distribución normal. Por lo que tuve que aplicar logaritmo natural a dicha columna. Esto me ayudo a mejorar o reducir las diferentes métricas. \n",
    "Utilice modelos de regresión, ya que la columan revenue se trata de una variable continua, estos fueron:\n",
    "-\tLinear Regression\n",
    "-\tLinear Regression Polynomial\n",
    "-\tRegularization (Ridge, Lasso, Elastic Net)\n",
    "-\tDecision Tree Regression\n",
    "-\tRandom Forest Regression \n",
    "-\tSVR\n",
    "-\tGradientBoostingRegressor\n",
    "-\tGradientBoostingRegressor\n",
    "-\tXGBRegressor\n",
    "Hice uso de GridSearch, RandomSearch y Optuna para iterar los modelos con distintos parámetros para encontrar el mas optimo, que se trata de reducir el errro Mean aboslute error.\n"
   ]
  },
  {
   "cell_type": "markdown",
   "metadata": {},
   "source": [
    "#### Referencias"
   ]
  },
  {
   "cell_type": "markdown",
   "metadata": {},
   "source": [
    "\n",
    "- TMDB Box Office Prediction | Kaggle. (2019). Kaggle. Recuperado 7 de abril de 2022, de https://www.kaggle.com/competitions/tmdb-box-office-prediction/overview/description\n",
    "- yaestaellistoquetodolosabe. (2016, 23 febrero). ¿Qué duración debe tener una película para ser considerada como ‘largometraje’? blog.20minutos. Recuperado 9 de abril de 2022, de https://blogs.20minutos.es/yaestaellistoquetodolosabe/que-duracion-debe-tener-una-pelicula-para-ser-considerada-como-largometraje/\n",
    "- Briceño, G., V. (2021, 2 diciembre). Historia del cine | Qué es, origen, evolución, etapas, importancia. Euston96. Recuperado 9 de abril de 2022, de https://www.euston96.com/historia-del-cine/\n",
    "- The Movie Database (TMDB). (2022). The Movie Database. Recuperado 6 de abril de 2020, de https://www.themoviedb.org/"
   ]
  }
 ],
 "metadata": {
  "interpreter": {
   "hash": "c752e9fd6ad4a1dd7b82effc3603a35e9802ed5aa6d690a3c5ed09f1cba7d5db"
  },
  "kernelspec": {
   "display_name": "Python 3.7.4 64-bit",
   "language": "python",
   "name": "python3"
  },
  "language_info": {
   "codemirror_mode": {
    "name": "ipython",
    "version": 3
   },
   "file_extension": ".py",
   "mimetype": "text/x-python",
   "name": "python",
   "nbconvert_exporter": "python",
   "pygments_lexer": "ipython3",
   "version": "3.7.4"
  },
  "orig_nbformat": 4
 },
 "nbformat": 4,
 "nbformat_minor": 2
}
